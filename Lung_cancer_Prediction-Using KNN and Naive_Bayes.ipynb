{
 "cells": [
  {
   "cell_type": "code",
   "execution_count": 1,
   "id": "b3aa9d62",
   "metadata": {},
   "outputs": [],
   "source": [
    "import pandas as pd\n",
    "import numpy as np"
   ]
  },
  {
   "cell_type": "code",
   "execution_count": 2,
   "id": "f07dbb1a",
   "metadata": {},
   "outputs": [
    {
     "data": {
      "text/html": [
       "<div>\n",
       "<style scoped>\n",
       "    .dataframe tbody tr th:only-of-type {\n",
       "        vertical-align: middle;\n",
       "    }\n",
       "\n",
       "    .dataframe tbody tr th {\n",
       "        vertical-align: top;\n",
       "    }\n",
       "\n",
       "    .dataframe thead th {\n",
       "        text-align: right;\n",
       "    }\n",
       "</style>\n",
       "<table border=\"1\" class=\"dataframe\">\n",
       "  <thead>\n",
       "    <tr style=\"text-align: right;\">\n",
       "      <th></th>\n",
       "      <th>Name</th>\n",
       "      <th>Surname</th>\n",
       "      <th>Age</th>\n",
       "      <th>Smokes</th>\n",
       "      <th>AreaQ</th>\n",
       "      <th>Alkhol</th>\n",
       "      <th>Result</th>\n",
       "    </tr>\n",
       "  </thead>\n",
       "  <tbody>\n",
       "    <tr>\n",
       "      <th>0</th>\n",
       "      <td>John</td>\n",
       "      <td>Wick</td>\n",
       "      <td>35</td>\n",
       "      <td>3</td>\n",
       "      <td>5</td>\n",
       "      <td>4</td>\n",
       "      <td>1</td>\n",
       "    </tr>\n",
       "    <tr>\n",
       "      <th>1</th>\n",
       "      <td>John</td>\n",
       "      <td>Constantine</td>\n",
       "      <td>27</td>\n",
       "      <td>20</td>\n",
       "      <td>2</td>\n",
       "      <td>5</td>\n",
       "      <td>1</td>\n",
       "    </tr>\n",
       "    <tr>\n",
       "      <th>2</th>\n",
       "      <td>Camela</td>\n",
       "      <td>Anderson</td>\n",
       "      <td>30</td>\n",
       "      <td>0</td>\n",
       "      <td>5</td>\n",
       "      <td>2</td>\n",
       "      <td>0</td>\n",
       "    </tr>\n",
       "    <tr>\n",
       "      <th>3</th>\n",
       "      <td>Alex</td>\n",
       "      <td>Telles</td>\n",
       "      <td>28</td>\n",
       "      <td>0</td>\n",
       "      <td>8</td>\n",
       "      <td>1</td>\n",
       "      <td>0</td>\n",
       "    </tr>\n",
       "    <tr>\n",
       "      <th>4</th>\n",
       "      <td>Diego</td>\n",
       "      <td>Maradona</td>\n",
       "      <td>68</td>\n",
       "      <td>4</td>\n",
       "      <td>5</td>\n",
       "      <td>6</td>\n",
       "      <td>1</td>\n",
       "    </tr>\n",
       "  </tbody>\n",
       "</table>\n",
       "</div>"
      ],
      "text/plain": [
       "     Name      Surname  Age  Smokes  AreaQ  Alkhol  Result\n",
       "0    John         Wick   35       3      5       4       1\n",
       "1    John  Constantine   27      20      2       5       1\n",
       "2  Camela     Anderson   30       0      5       2       0\n",
       "3    Alex       Telles   28       0      8       1       0\n",
       "4   Diego     Maradona   68       4      5       6       1"
      ]
     },
     "execution_count": 2,
     "metadata": {},
     "output_type": "execute_result"
    }
   ],
   "source": [
    "df=pd.read_csv('lung_cancer.csv')\n",
    "df.head()"
   ]
  },
  {
   "cell_type": "code",
   "execution_count": 3,
   "id": "eb5ab008",
   "metadata": {},
   "outputs": [
    {
     "data": {
      "text/plain": [
       "(59, 7)"
      ]
     },
     "execution_count": 3,
     "metadata": {},
     "output_type": "execute_result"
    }
   ],
   "source": [
    "df.shape"
   ]
  },
  {
   "cell_type": "code",
   "execution_count": 4,
   "id": "1cbbb076",
   "metadata": {},
   "outputs": [
    {
     "name": "stdout",
     "output_type": "stream",
     "text": [
      "<class 'pandas.core.frame.DataFrame'>\n",
      "RangeIndex: 59 entries, 0 to 58\n",
      "Data columns (total 7 columns):\n",
      " #   Column   Non-Null Count  Dtype \n",
      "---  ------   --------------  ----- \n",
      " 0   Name     59 non-null     object\n",
      " 1   Surname  59 non-null     object\n",
      " 2   Age      59 non-null     int64 \n",
      " 3   Smokes   59 non-null     int64 \n",
      " 4   AreaQ    59 non-null     int64 \n",
      " 5   Alkhol   59 non-null     int64 \n",
      " 6   Result   59 non-null     int64 \n",
      "dtypes: int64(5), object(2)\n",
      "memory usage: 3.4+ KB\n"
     ]
    }
   ],
   "source": [
    "df.info()"
   ]
  },
  {
   "cell_type": "code",
   "execution_count": 5,
   "id": "6a747b32",
   "metadata": {},
   "outputs": [
    {
     "data": {
      "text/plain": [
       "Name       0\n",
       "Surname    0\n",
       "Age        0\n",
       "Smokes     0\n",
       "AreaQ      0\n",
       "Alkhol     0\n",
       "Result     0\n",
       "dtype: int64"
      ]
     },
     "execution_count": 5,
     "metadata": {},
     "output_type": "execute_result"
    }
   ],
   "source": [
    "#Checking for null values\n",
    "df.isna().sum()"
   ]
  },
  {
   "cell_type": "code",
   "execution_count": 6,
   "id": "e5dbcb80",
   "metadata": {},
   "outputs": [],
   "source": [
    "df.drop(['Name','Surname'],axis=1,inplace=True)"
   ]
  },
  {
   "cell_type": "code",
   "execution_count": 7,
   "id": "bbe4ca91",
   "metadata": {},
   "outputs": [
    {
     "data": {
      "text/html": [
       "<div>\n",
       "<style scoped>\n",
       "    .dataframe tbody tr th:only-of-type {\n",
       "        vertical-align: middle;\n",
       "    }\n",
       "\n",
       "    .dataframe tbody tr th {\n",
       "        vertical-align: top;\n",
       "    }\n",
       "\n",
       "    .dataframe thead th {\n",
       "        text-align: right;\n",
       "    }\n",
       "</style>\n",
       "<table border=\"1\" class=\"dataframe\">\n",
       "  <thead>\n",
       "    <tr style=\"text-align: right;\">\n",
       "      <th></th>\n",
       "      <th>Age</th>\n",
       "      <th>Smokes</th>\n",
       "      <th>AreaQ</th>\n",
       "      <th>Alkhol</th>\n",
       "      <th>Result</th>\n",
       "    </tr>\n",
       "  </thead>\n",
       "  <tbody>\n",
       "    <tr>\n",
       "      <th>0</th>\n",
       "      <td>35</td>\n",
       "      <td>3</td>\n",
       "      <td>5</td>\n",
       "      <td>4</td>\n",
       "      <td>1</td>\n",
       "    </tr>\n",
       "    <tr>\n",
       "      <th>1</th>\n",
       "      <td>27</td>\n",
       "      <td>20</td>\n",
       "      <td>2</td>\n",
       "      <td>5</td>\n",
       "      <td>1</td>\n",
       "    </tr>\n",
       "    <tr>\n",
       "      <th>2</th>\n",
       "      <td>30</td>\n",
       "      <td>0</td>\n",
       "      <td>5</td>\n",
       "      <td>2</td>\n",
       "      <td>0</td>\n",
       "    </tr>\n",
       "    <tr>\n",
       "      <th>3</th>\n",
       "      <td>28</td>\n",
       "      <td>0</td>\n",
       "      <td>8</td>\n",
       "      <td>1</td>\n",
       "      <td>0</td>\n",
       "    </tr>\n",
       "    <tr>\n",
       "      <th>4</th>\n",
       "      <td>68</td>\n",
       "      <td>4</td>\n",
       "      <td>5</td>\n",
       "      <td>6</td>\n",
       "      <td>1</td>\n",
       "    </tr>\n",
       "  </tbody>\n",
       "</table>\n",
       "</div>"
      ],
      "text/plain": [
       "   Age  Smokes  AreaQ  Alkhol  Result\n",
       "0   35       3      5       4       1\n",
       "1   27      20      2       5       1\n",
       "2   30       0      5       2       0\n",
       "3   28       0      8       1       0\n",
       "4   68       4      5       6       1"
      ]
     },
     "execution_count": 7,
     "metadata": {},
     "output_type": "execute_result"
    }
   ],
   "source": [
    "df.head()"
   ]
  },
  {
   "cell_type": "markdown",
   "id": "11cceb6d",
   "metadata": {},
   "source": [
    "#### Extract input and target features"
   ]
  },
  {
   "cell_type": "code",
   "execution_count": 9,
   "id": "22ac3d28",
   "metadata": {},
   "outputs": [
    {
     "data": {
      "text/html": [
       "<div>\n",
       "<style scoped>\n",
       "    .dataframe tbody tr th:only-of-type {\n",
       "        vertical-align: middle;\n",
       "    }\n",
       "\n",
       "    .dataframe tbody tr th {\n",
       "        vertical-align: top;\n",
       "    }\n",
       "\n",
       "    .dataframe thead th {\n",
       "        text-align: right;\n",
       "    }\n",
       "</style>\n",
       "<table border=\"1\" class=\"dataframe\">\n",
       "  <thead>\n",
       "    <tr style=\"text-align: right;\">\n",
       "      <th></th>\n",
       "      <th>Age</th>\n",
       "      <th>Smokes</th>\n",
       "      <th>AreaQ</th>\n",
       "      <th>Alkhol</th>\n",
       "    </tr>\n",
       "  </thead>\n",
       "  <tbody>\n",
       "    <tr>\n",
       "      <th>0</th>\n",
       "      <td>35</td>\n",
       "      <td>3</td>\n",
       "      <td>5</td>\n",
       "      <td>4</td>\n",
       "    </tr>\n",
       "    <tr>\n",
       "      <th>1</th>\n",
       "      <td>27</td>\n",
       "      <td>20</td>\n",
       "      <td>2</td>\n",
       "      <td>5</td>\n",
       "    </tr>\n",
       "    <tr>\n",
       "      <th>2</th>\n",
       "      <td>30</td>\n",
       "      <td>0</td>\n",
       "      <td>5</td>\n",
       "      <td>2</td>\n",
       "    </tr>\n",
       "    <tr>\n",
       "      <th>3</th>\n",
       "      <td>28</td>\n",
       "      <td>0</td>\n",
       "      <td>8</td>\n",
       "      <td>1</td>\n",
       "    </tr>\n",
       "    <tr>\n",
       "      <th>4</th>\n",
       "      <td>68</td>\n",
       "      <td>4</td>\n",
       "      <td>5</td>\n",
       "      <td>6</td>\n",
       "    </tr>\n",
       "  </tbody>\n",
       "</table>\n",
       "</div>"
      ],
      "text/plain": [
       "   Age  Smokes  AreaQ  Alkhol\n",
       "0   35       3      5       4\n",
       "1   27      20      2       5\n",
       "2   30       0      5       2\n",
       "3   28       0      8       1\n",
       "4   68       4      5       6"
      ]
     },
     "execution_count": 9,
     "metadata": {},
     "output_type": "execute_result"
    }
   ],
   "source": [
    "x=df.iloc[:,:-1]\n",
    "x.head()"
   ]
  },
  {
   "cell_type": "code",
   "execution_count": 12,
   "id": "56dc879f",
   "metadata": {},
   "outputs": [
    {
     "data": {
      "text/plain": [
       "0    1\n",
       "1    1\n",
       "2    0\n",
       "3    0\n",
       "4    1\n",
       "Name: Result, dtype: int64"
      ]
     },
     "execution_count": 12,
     "metadata": {},
     "output_type": "execute_result"
    }
   ],
   "source": [
    "y=df.iloc[:,-1]\n",
    "y.head()"
   ]
  },
  {
   "cell_type": "markdown",
   "id": "8556a205",
   "metadata": {},
   "source": [
    "#### Train test split of the dataset"
   ]
  },
  {
   "cell_type": "code",
   "execution_count": 13,
   "id": "bc66f144",
   "metadata": {},
   "outputs": [],
   "source": [
    "from sklearn.model_selection import train_test_split\n",
    "x_train,x_test,y_train,y_test=train_test_split(x,y,test_size=0.2)"
   ]
  },
  {
   "cell_type": "code",
   "execution_count": 16,
   "id": "a99edb38",
   "metadata": {},
   "outputs": [
    {
     "data": {
      "text/html": [
       "<div>\n",
       "<style scoped>\n",
       "    .dataframe tbody tr th:only-of-type {\n",
       "        vertical-align: middle;\n",
       "    }\n",
       "\n",
       "    .dataframe tbody tr th {\n",
       "        vertical-align: top;\n",
       "    }\n",
       "\n",
       "    .dataframe thead th {\n",
       "        text-align: right;\n",
       "    }\n",
       "</style>\n",
       "<table border=\"1\" class=\"dataframe\">\n",
       "  <thead>\n",
       "    <tr style=\"text-align: right;\">\n",
       "      <th></th>\n",
       "      <th>Age</th>\n",
       "      <th>Smokes</th>\n",
       "      <th>AreaQ</th>\n",
       "      <th>Alkhol</th>\n",
       "    </tr>\n",
       "  </thead>\n",
       "  <tbody>\n",
       "    <tr>\n",
       "      <th>46</th>\n",
       "      <td>31</td>\n",
       "      <td>20</td>\n",
       "      <td>9</td>\n",
       "      <td>4</td>\n",
       "    </tr>\n",
       "    <tr>\n",
       "      <th>37</th>\n",
       "      <td>62</td>\n",
       "      <td>15</td>\n",
       "      <td>5</td>\n",
       "      <td>5</td>\n",
       "    </tr>\n",
       "    <tr>\n",
       "      <th>53</th>\n",
       "      <td>35</td>\n",
       "      <td>20</td>\n",
       "      <td>5</td>\n",
       "      <td>1</td>\n",
       "    </tr>\n",
       "    <tr>\n",
       "      <th>50</th>\n",
       "      <td>42</td>\n",
       "      <td>12</td>\n",
       "      <td>6</td>\n",
       "      <td>2</td>\n",
       "    </tr>\n",
       "    <tr>\n",
       "      <th>43</th>\n",
       "      <td>63</td>\n",
       "      <td>20</td>\n",
       "      <td>4</td>\n",
       "      <td>5</td>\n",
       "    </tr>\n",
       "  </tbody>\n",
       "</table>\n",
       "</div>"
      ],
      "text/plain": [
       "    Age  Smokes  AreaQ  Alkhol\n",
       "46   31      20      9       4\n",
       "37   62      15      5       5\n",
       "53   35      20      5       1\n",
       "50   42      12      6       2\n",
       "43   63      20      4       5"
      ]
     },
     "execution_count": 16,
     "metadata": {},
     "output_type": "execute_result"
    }
   ],
   "source": [
    "x_train.head()"
   ]
  },
  {
   "cell_type": "code",
   "execution_count": 17,
   "id": "60636a0c",
   "metadata": {},
   "outputs": [
    {
     "data": {
      "text/html": [
       "<div>\n",
       "<style scoped>\n",
       "    .dataframe tbody tr th:only-of-type {\n",
       "        vertical-align: middle;\n",
       "    }\n",
       "\n",
       "    .dataframe tbody tr th {\n",
       "        vertical-align: top;\n",
       "    }\n",
       "\n",
       "    .dataframe thead th {\n",
       "        text-align: right;\n",
       "    }\n",
       "</style>\n",
       "<table border=\"1\" class=\"dataframe\">\n",
       "  <thead>\n",
       "    <tr style=\"text-align: right;\">\n",
       "      <th></th>\n",
       "      <th>Age</th>\n",
       "      <th>Smokes</th>\n",
       "      <th>AreaQ</th>\n",
       "      <th>Alkhol</th>\n",
       "    </tr>\n",
       "  </thead>\n",
       "  <tbody>\n",
       "    <tr>\n",
       "      <th>28</th>\n",
       "      <td>55</td>\n",
       "      <td>20</td>\n",
       "      <td>1</td>\n",
       "      <td>4</td>\n",
       "    </tr>\n",
       "    <tr>\n",
       "      <th>55</th>\n",
       "      <td>77</td>\n",
       "      <td>20</td>\n",
       "      <td>5</td>\n",
       "      <td>4</td>\n",
       "    </tr>\n",
       "    <tr>\n",
       "      <th>29</th>\n",
       "      <td>40</td>\n",
       "      <td>20</td>\n",
       "      <td>2</td>\n",
       "      <td>7</td>\n",
       "    </tr>\n",
       "    <tr>\n",
       "      <th>47</th>\n",
       "      <td>28</td>\n",
       "      <td>10</td>\n",
       "      <td>4</td>\n",
       "      <td>1</td>\n",
       "    </tr>\n",
       "    <tr>\n",
       "      <th>34</th>\n",
       "      <td>26</td>\n",
       "      <td>10</td>\n",
       "      <td>7</td>\n",
       "      <td>2</td>\n",
       "    </tr>\n",
       "  </tbody>\n",
       "</table>\n",
       "</div>"
      ],
      "text/plain": [
       "    Age  Smokes  AreaQ  Alkhol\n",
       "28   55      20      1       4\n",
       "55   77      20      5       4\n",
       "29   40      20      2       7\n",
       "47   28      10      4       1\n",
       "34   26      10      7       2"
      ]
     },
     "execution_count": 17,
     "metadata": {},
     "output_type": "execute_result"
    }
   ],
   "source": [
    "x_test.head()"
   ]
  },
  {
   "cell_type": "markdown",
   "id": "eca6239e",
   "metadata": {},
   "source": [
    "#### Normalization of input values"
   ]
  },
  {
   "cell_type": "code",
   "execution_count": 18,
   "id": "f171fe9e",
   "metadata": {},
   "outputs": [],
   "source": [
    "from sklearn.preprocessing import StandardScaler"
   ]
  },
  {
   "cell_type": "code",
   "execution_count": 21,
   "id": "b425dc35",
   "metadata": {},
   "outputs": [],
   "source": [
    "scaler=StandardScaler()\n",
    "x_train=scaler.fit_transform(x_train)\n",
    "x_test=scaler.transform(x_test)"
   ]
  },
  {
   "cell_type": "code",
   "execution_count": 22,
   "id": "59381e49",
   "metadata": {},
   "outputs": [
    {
     "data": {
      "text/plain": [
       "array([[-0.73239001,  0.57066166,  1.65672021,  0.29634875],\n",
       "       [ 1.38906575, -0.02011142, -0.06407205,  0.71842121],\n",
       "       [-0.45865378,  0.57066166, -0.06407205, -0.96986863],\n",
       "       [ 0.02038461, -0.37457528,  0.36612601, -0.54779617],\n",
       "       [ 1.4574998 ,  0.57066166, -0.49427012,  0.71842121],\n",
       "       [-0.18491756,  0.33435243,  1.22652214, -0.96986863],\n",
       "       [-0.93769218, -1.79243069,  1.22652214, -0.96986863],\n",
       "       [ 0.91002735, -0.02011142, -1.78486431, -0.12572371],\n",
       "       [ 1.18376358,  0.57066166, -0.92446818,  0.29634875],\n",
       "       [ 1.38906575,  1.16143475, -0.92446818,  0.29634875],\n",
       "       [ 1.79967009, -1.31981222, -0.06407205,  1.14049367],\n",
       "       [-1.41673058,  0.57066166, -0.06407205, -0.12572371],\n",
       "       [-0.32178567, -0.02011142,  0.36612601, -0.54779617],\n",
       "       [-1.00612624,  0.57066166, -1.35466625,  0.71842121],\n",
       "       [ 0.15725273,  1.75220784, -1.78486431,  1.14049367],\n",
       "       [-1.34829652, -0.37457528, -0.06407205, -0.54779617],\n",
       "       [ 2.4155766 , -1.43796684, -1.35466625,  1.14049367],\n",
       "       [ 0.3625549 , -0.02011142, -1.78486431,  1.98463859],\n",
       "       [ 0.08881867,  1.75220784, -0.92446818,  1.98463859],\n",
       "       [ 0.70472518,  0.33435243, -0.49427012,  0.71842121],\n",
       "       [-1.14299435,  0.57066166,  1.22652214, -0.54779617],\n",
       "       [ 0.3625549 , -0.37457528,  1.22652214, -1.39194109],\n",
       "       [-0.39021973, -0.25642066, -0.06407205, -0.54779617],\n",
       "       [-0.5955219 ,  1.16143475,  1.22652214, -0.54779617],\n",
       "       [-1.14299435, -1.55612145, -0.06407205, -0.96986863],\n",
       "       [ 0.22568678, -1.55612145,  0.36612601, -1.39194109],\n",
       "       [-0.93769218,  0.57066166, -1.35466625,  1.98463859],\n",
       "       [-1.62203275, -0.61088451,  0.36612601, -0.12572371],\n",
       "       [-0.52708784,  1.16143475, -0.49427012,  1.98463859],\n",
       "       [ 1.86810414,  0.57066166, -0.06407205,  0.29634875],\n",
       "       [-0.52708784, -1.79243069,  2.08691827, -1.39194109],\n",
       "       [ 1.38906575,  0.57066166, -0.06407205,  1.14049367],\n",
       "       [-0.5955219 , -0.84719375,  1.22652214, -0.96986863],\n",
       "       [-0.80082407, -1.79243069, -0.06407205, -0.54779617],\n",
       "       [-0.52708784, -0.37457528,  1.22652214, -1.39194109],\n",
       "       [-1.34829652,  0.57066166,  0.36612601, -0.54779617],\n",
       "       [ 0.15725273, -1.2016576 ,  1.22652214, -0.96986863],\n",
       "       [-0.18491756, -0.02011142,  0.79632408, -0.54779617],\n",
       "       [ 0.63629112,  1.16143475,  1.65672021, -1.39194109],\n",
       "       [-1.0745603 ,  2.22482631, -1.78486431,  1.98463859],\n",
       "       [-0.45865378, -1.43796684, -0.06407205,  0.29634875],\n",
       "       [-1.0745603 , -0.25642066,  0.36612601, -0.96986863],\n",
       "       [ 0.97846141,  0.57066166, -0.92446818, -0.12572371],\n",
       "       [ 0.77315924,  0.57066166,  0.36612601, -0.12572371],\n",
       "       [ 1.38906575, -1.2016576 , -0.49427012, -0.12572371],\n",
       "       [-0.32178567, -0.61088451, -0.06407205, -0.12572371],\n",
       "       [ 0.02038461,  0.8069709 , -0.92446818,  0.71842121]])"
      ]
     },
     "execution_count": 22,
     "metadata": {},
     "output_type": "execute_result"
    }
   ],
   "source": [
    "x_train"
   ]
  },
  {
   "cell_type": "code",
   "execution_count": 23,
   "id": "fd96f63b",
   "metadata": {},
   "outputs": [
    {
     "data": {
      "text/plain": [
       "array([[ 0.91002735,  0.57066166, -1.78486431,  0.29634875],\n",
       "       [ 2.4155766 ,  0.57066166, -0.06407205,  0.29634875],\n",
       "       [-0.1164835 ,  0.57066166, -1.35466625,  1.56256613],\n",
       "       [-0.93769218, -0.61088451, -0.49427012, -0.96986863],\n",
       "       [-1.0745603 , -0.61088451,  0.79632408, -0.54779617],\n",
       "       [-1.41673058,  0.57066166,  1.22652214, -0.12572371],\n",
       "       [ 0.56785707,  0.57066166, -1.35466625,  0.29634875],\n",
       "       [-0.5955219 , -1.31981222,  1.22652214, -1.39194109],\n",
       "       [ 2.27870849, -0.02011142, -0.92446818,  0.71842121],\n",
       "       [-1.55359869, -0.37457528,  1.22652214, -1.39194109],\n",
       "       [ 2.14184037, -0.61088451,  0.79632408,  1.14049367],\n",
       "       [ 1.11532952, -0.02011142,  2.08691827, -1.39194109]])"
      ]
     },
     "execution_count": 23,
     "metadata": {},
     "output_type": "execute_result"
    }
   ],
   "source": [
    "x_test"
   ]
  },
  {
   "cell_type": "markdown",
   "id": "76afdc18",
   "metadata": {},
   "source": [
    "#### Model creation using KNN and Naive-Bayes classifiers"
   ]
  },
  {
   "cell_type": "code",
   "execution_count": 28,
   "id": "f4027d3f",
   "metadata": {},
   "outputs": [],
   "source": [
    "from sklearn.neighbors import KNeighborsClassifier\n",
    "from sklearn.naive_bayes import GaussianNB\n",
    "from sklearn.metrics import classification_report,accuracy_score,confusion_matrix,ConfusionMatrixDisplay"
   ]
  },
  {
   "cell_type": "code",
   "execution_count": 34,
   "id": "cabac78f",
   "metadata": {},
   "outputs": [
    {
     "data": {
      "text/plain": [
       "KNeighborsClassifier(n_neighbors=3)"
      ]
     },
     "execution_count": 34,
     "metadata": {},
     "output_type": "execute_result"
    }
   ],
   "source": [
    "knn_model=KNeighborsClassifier(n_neighbors=3)\n",
    "knn_model.fit(x_train,y_train)"
   ]
  },
  {
   "cell_type": "code",
   "execution_count": 35,
   "id": "edb62a13",
   "metadata": {},
   "outputs": [
    {
     "data": {
      "text/plain": [
       "array([1, 1, 1, 0, 0, 0, 1, 0, 1, 0, 1, 0], dtype=int64)"
      ]
     },
     "execution_count": 35,
     "metadata": {},
     "output_type": "execute_result"
    }
   ],
   "source": [
    "y_pred=knn_model.predict(x_test)\n",
    "y_pred"
   ]
  },
  {
   "cell_type": "code",
   "execution_count": 39,
   "id": "e0510c6b",
   "metadata": {},
   "outputs": [
    {
     "data": {
      "text/plain": [
       "1.0"
      ]
     },
     "execution_count": 39,
     "metadata": {},
     "output_type": "execute_result"
    }
   ],
   "source": [
    "knn_score=accuracy_score(y_test,y_pred)\n",
    "score"
   ]
  },
  {
   "cell_type": "code",
   "execution_count": 40,
   "id": "d2d9d4c3",
   "metadata": {},
   "outputs": [
    {
     "data": {
      "text/plain": [
       "<sklearn.metrics._plot.confusion_matrix.ConfusionMatrixDisplay at 0x1ac0e067af0>"
      ]
     },
     "execution_count": 40,
     "metadata": {},
     "output_type": "execute_result"
    },
    {
     "data": {
      "image/png": "[encoded data removed]",
      "text/plain": [
       "<Figure size 432x288 with 2 Axes>"
      ]
     },
     "metadata": {
      "needs_background": "light"
     },
     "output_type": "display_data"
    }
   ],
   "source": [
    "knn_cmd=ConfusionMatrixDisplay(confusion_matrix(y_test,y_pred),display_labels=[1,0])\n",
    "cmd.plot()"
   ]
  },
  {
   "cell_type": "code",
   "execution_count": 47,
   "id": "74fe3b43",
   "metadata": {},
   "outputs": [
    {
     "name": "stdout",
     "output_type": "stream",
     "text": [
      "              precision    recall  f1-score   support\n",
      "\n",
      "           0       1.00      1.00      1.00         6\n",
      "           1       1.00      1.00      1.00         6\n",
      "\n",
      "    accuracy                           1.00        12\n",
      "   macro avg       1.00      1.00      1.00        12\n",
      "weighted avg       1.00      1.00      1.00        12\n",
      "\n"
     ]
    }
   ],
   "source": [
    "knn_cr=classification_report(y_test,y_pred)\n",
    "print(knn_cr)"
   ]
  },
  {
   "cell_type": "code",
   "execution_count": 37,
   "id": "fcea74e4",
   "metadata": {},
   "outputs": [
    {
     "data": {
      "text/plain": [
       "GaussianNB()"
      ]
     },
     "execution_count": 37,
     "metadata": {},
     "output_type": "execute_result"
    }
   ],
   "source": [
    "nb_model=GaussianNB()\n",
    "nb_model.fit(x_train,y_train)"
   ]
  },
  {
   "cell_type": "code",
   "execution_count": 38,
   "id": "79581b04",
   "metadata": {},
   "outputs": [
    {
     "data": {
      "text/plain": [
       "array([1, 1, 1, 0, 0, 0, 1, 0, 1, 0, 1, 0], dtype=int64)"
      ]
     },
     "execution_count": 38,
     "metadata": {},
     "output_type": "execute_result"
    }
   ],
   "source": [
    "nb_model.predict(x_test)"
   ]
  },
  {
   "cell_type": "code",
   "execution_count": 41,
   "id": "9315ee3f",
   "metadata": {},
   "outputs": [
    {
     "data": {
      "text/plain": [
       "1.0"
      ]
     },
     "execution_count": 41,
     "metadata": {},
     "output_type": "execute_result"
    }
   ],
   "source": [
    "nb_score=accuracy_score(y_test,y_pred)\n",
    "nb_score"
   ]
  },
  {
   "cell_type": "code",
   "execution_count": 44,
   "id": "fee61d54",
   "metadata": {},
   "outputs": [
    {
     "data": {
      "text/plain": [
       "<sklearn.metrics._plot.confusion_matrix.ConfusionMatrixDisplay at 0x1ac13fe7f10>"
      ]
     },
     "execution_count": 44,
     "metadata": {},
     "output_type": "execute_result"
    },
    {
     "data": {
      "image/png": "[encoded data removed]",
      "text/plain": [
       "<Figure size 432x288 with 2 Axes>"
      ]
     },
     "metadata": {
      "needs_background": "light"
     },
     "output_type": "display_data"
    }
   ],
   "source": [
    "nb_cmd=ConfusionMatrixDisplay(confusion_matrix(y_test,y_pred),display_labels=[1,0])\n",
    "nb_cmd.plot()"
   ]
  },
  {
   "cell_type": "code",
   "execution_count": 48,
   "id": "57fd8ef3",
   "metadata": {},
   "outputs": [
    {
     "name": "stdout",
     "output_type": "stream",
     "text": [
      "              precision    recall  f1-score   support\n",
      "\n",
      "           0       1.00      1.00      1.00         6\n",
      "           1       1.00      1.00      1.00         6\n",
      "\n",
      "    accuracy                           1.00        12\n",
      "   macro avg       1.00      1.00      1.00        12\n",
      "weighted avg       1.00      1.00      1.00        12\n",
      "\n"
     ]
    }
   ],
   "source": [
    "nb_cr=classification_report(y_test,y_pred)\n",
    "print(nb_cr)"
   ]
  },
  {
   "cell_type": "code",
   "execution_count": null,
   "id": "2c30d460",
   "metadata": {},
   "outputs": [],
   "source": []
  }
 ],
 "metadata": {
  "kernelspec": {
   "display_name": "Python 3 (ipykernel)",
   "language": "python",
   "name": "python3"
  },
  "language_info": {
   "codemirror_mode": {
    "name": "ipython",
    "version": 3
   },
   "file_extension": ".py",
   "mimetype": "text/x-python",
   "name": "python",
   "nbconvert_exporter": "python",
   "pygments_lexer": "ipython3",
   "version": "3.9.7"
  }
 },
 "nbformat": 4,
 "nbformat_minor": 5
}
